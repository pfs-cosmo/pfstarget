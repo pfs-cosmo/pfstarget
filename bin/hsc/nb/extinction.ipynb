{
 "cells": [
  {
   "cell_type": "code",
   "execution_count": 1,
   "id": "1d099eda-ccf6-4619-89a7-5c97fdf15be0",
   "metadata": {},
   "outputs": [],
   "source": [
    "import numpy as np\n",
    "from astropy.table import Table, vstack"
   ]
  },
  {
   "cell_type": "code",
   "execution_count": 2,
   "id": "ee298d94-6eb9-4cc8-9637-0a401a9ac058",
   "metadata": {},
   "outputs": [],
   "source": [
    "import healpy as hp"
   ]
  },
  {
   "cell_type": "code",
   "execution_count": 3,
   "id": "d09bf014-d961-436b-8fe6-9dabe83d2015",
   "metadata": {},
   "outputs": [],
   "source": [
    "from pfstarget import cuts as Cuts\n",
    "from pfstarget import util as U\n",
    "from pfstarget import extinction as E"
   ]
  },
  {
   "cell_type": "code",
   "execution_count": 4,
   "id": "51f39ed3-6567-4848-a8d8-57b7251b5f40",
   "metadata": {},
   "outputs": [],
   "source": [
    "# --- plotting ---\n",
    "import matplotlib as mpl\n",
    "import matplotlib.pyplot as plt\n",
    "mpl.rcParams['text.usetex'] = True\n",
    "mpl.rcParams['font.family'] = 'serif'\n",
    "mpl.rcParams['axes.linewidth'] = 1.5\n",
    "mpl.rcParams['axes.xmargin'] = 1\n",
    "mpl.rcParams['xtick.labelsize'] = 'x-large'\n",
    "mpl.rcParams['xtick.major.size'] = 5\n",
    "mpl.rcParams['xtick.major.width'] = 1.5\n",
    "mpl.rcParams['ytick.labelsize'] = 'x-large'\n",
    "mpl.rcParams['ytick.major.size'] = 5\n",
    "mpl.rcParams['ytick.major.width'] = 1.5\n",
    "mpl.rcParams['legend.frameon'] = False"
   ]
  },
  {
   "cell_type": "code",
   "execution_count": 5,
   "id": "651a70fa-8069-4595-8816-c48f95d31c50",
   "metadata": {},
   "outputs": [],
   "source": [
    "tract = Table.read('/Users/hahnchanghoon/projects/pfstarget/bin/hsc/sql/database/s23-colorterm/sql/0.fits')\n",
    "for i in range(1,3): \n",
    "    _tract = Table.read('/Users/hahnchanghoon/projects/pfstarget/bin/hsc/sql/database/s23-colorterm/sql/%i.fits' % i)\n",
    "    tract = vstack([tract, _tract])"
   ]
  },
  {
   "cell_type": "code",
   "execution_count": 6,
   "id": "4575daf1-9be7-4017-98cf-2d9f76910eed",
   "metadata": {},
   "outputs": [],
   "source": [
    "def targetselect(tract, dust='desi'): \n",
    "    hsc = Cuts._prepare_hsc(tract,  dust_extinction=dust)\n",
    "    is_pfscosmo = Cuts.isCosmology(hsc)\n",
    "    return hsc[is_pfscosmo] "
   ]
  },
  {
   "cell_type": "code",
   "execution_count": 7,
   "id": "59c9ee40-edb3-4b88-a97d-f85812c7f0c4",
   "metadata": {},
   "outputs": [
    {
     "name": "stderr",
     "output_type": "stream",
     "text": [
      "/Users/hahnchanghoon/projects/pfstarget/src/pfstarget/cuts.py:85: RuntimeWarning: invalid value encountered in subtract\n",
      "  cuts &= ((objects['G_MAG'] - objects['R_MAG'] > -1) &\n",
      "/Users/hahnchanghoon/projects/pfstarget/src/pfstarget/cuts.py:51: RuntimeWarning: invalid value encountered in subtract\n",
      "  cuts &= (((objects['G_MAG'] - objects['R_MAG']) < g_r_cut) | # g-r cut (for 1.6 < z < 2.4 ELGs)\n",
      "/Users/hahnchanghoon/projects/pfstarget/src/pfstarget/cuts.py:53: RuntimeWarning: invalid value encountered in subtract\n",
      "  > color_slope * (objects['G_MAG'] - objects['R_MAG'])- color_yint))\n"
     ]
    }
   ],
   "source": [
    "target_desi = targetselect(tract, dust='desi') \n",
    "target_sfd = targetselect(tract, dust='sfd98') "
   ]
  },
  {
   "cell_type": "code",
   "execution_count": 8,
   "id": "ed6b80ce-9ccf-4291-aeea-36e51917eb5b",
   "metadata": {},
   "outputs": [],
   "source": [
    "hp_desi = U.healpixelize(target_desi['RA'], target_desi['DEC'], nside=128)\n",
    "hp_sfd = U.healpixelize(target_sfd['RA'], target_sfd['DEC'], nside=128)"
   ]
  },
  {
   "cell_type": "markdown",
   "id": "44fa2884-6208-4d0f-abee-b3858fb04226",
   "metadata": {},
   "source": [
    "# target number counts"
   ]
  },
  {
   "cell_type": "code",
   "execution_count": 9,
   "id": "4bb847d6-8b94-47be-acc1-a1fe569cb071",
   "metadata": {},
   "outputs": [
    {
     "data": {
      "text/plain": [
       "(-10.0, 2.0)"
      ]
     },
     "execution_count": 9,
     "metadata": {},
     "output_type": "execute_result"
    },
    {
     "data": {
      "image/png": "[encoded data removed]",
      "text/plain": [
       "<Figure size 1500x500 with 6 Axes>"
      ]
     },
     "metadata": {},
     "output_type": "display_data"
    }
   ],
   "source": [
    "fig = plt.figure(figsize=(15,5))\n",
    "sub = fig.add_subplot(131)\n",
    "plt.axes(sub)\n",
    "hp.cartview(hp_desi, title=\"PFS Targets (DESI dust map)\", cmap=\"viridis\", coord=['C'], min=10, max=1.2e3, hold=True)\n",
    "plt.xlim(-28, -40)\n",
    "plt.ylim(-10, 2)\n",
    "\n",
    "\n",
    "sub = fig.add_subplot(132)\n",
    "plt.axes(sub)\n",
    "hp.cartview(hp_sfd, title=\"PFS Targets (SFD98 dust map)\", cmap=\"viridis\", coord=['C'], min=10, max=1.2e3, hold=True)\n",
    "plt.xlim(-28, -40)\n",
    "plt.ylim(-10, 2)\n",
    "\n",
    "\n",
    "sub = fig.add_subplot(133)\n",
    "plt.axes(sub)\n",
    "hp.cartview(hp_desi - hp_sfd, title=\"(PFS Targets DESI dust map) - (PFS Targets SFD98)\", \n",
    "            cmap=\"viridis\", coord=['C'], min=-50, max=50, hold=True)\n",
    "plt.xlim(-28, -40)\n",
    "plt.ylim(-10, 2)"
   ]
  },
  {
   "cell_type": "markdown",
   "id": "da7490ba-2560-488c-b4b6-462f75482246",
   "metadata": {},
   "source": [
    "# target densities\n",
    "\n",
    "First get effective area using randoms"
   ]
  },
  {
   "cell_type": "code",
   "execution_count": 11,
   "id": "b9674b79-4121-42ef-99c3-4623d8a8bf0b",
   "metadata": {},
   "outputs": [],
   "source": [
    "for i in range(3): \n",
    "    randoms = Table.read('/Users/hahnchanghoon/projects/pfstarget/bin/hsc/sql/database/s23-colorterm/sql/%i.ran.fits' % i)\n",
    "    randoms_cut = Cuts.random_masking(randoms)\n",
    "    \n",
    "    if i == 0: \n",
    "        hp_ran_all = U.healpixelize(randoms['ra'], randoms['dec'], nside=128)\n",
    "        hp_ran = U.healpixelize(randoms[~randoms_cut]['ra'], randoms[~randoms_cut]['dec'], nside=128)\n",
    "    else: \n",
    "        hp_ran_all += U.healpixelize(randoms['ra'], randoms['dec'], nside=128)\n",
    "        hp_ran += U.healpixelize(randoms[~randoms_cut]['ra'], randoms[~randoms_cut]['dec'], nside=128)"
   ]
  },
  {
   "cell_type": "code",
   "execution_count": 12,
   "id": "2045e861-25dd-494b-af76-21ff8189db3d",
   "metadata": {},
   "outputs": [
    {
     "name": "stderr",
     "output_type": "stream",
     "text": [
      "/var/folders/w7/p2lcz8lj0m39n1ywl2_s0_j40000gp/T/ipykernel_40764/2769602794.py:4: RuntimeWarning: invalid value encountered in divide\n",
      "  hp.cartview(hp_ran/hp_ran_all, title=\"eff. healpixel\", cmap=\"viridis\", coord=['C'], min=0, max=1, hold=True)\n"
     ]
    },
    {
     "data": {
      "text/plain": [
       "(-10.0, 2.0)"
      ]
     },
     "execution_count": 12,
     "metadata": {},
     "output_type": "execute_result"
    },
    {
     "data": {
      "image/png": "[encoded data removed]",
      "text/plain": [
       "<Figure size 500x500 with 2 Axes>"
      ]
     },
     "metadata": {},
     "output_type": "display_data"
    }
   ],
   "source": [
    "fig = plt.figure(figsize=(5,5))\n",
    "sub = fig.add_subplot(111)\n",
    "plt.axes(sub)\n",
    "hp.cartview(hp_ran/hp_ran_all, title=\"eff. healpixel\", cmap=\"viridis\", coord=['C'], min=0, max=1, hold=True)\n",
    "plt.xlim(-28, -40)\n",
    "plt.ylim(-10, 2)"
   ]
  },
  {
   "cell_type": "code",
   "execution_count": 13,
   "id": "44798647-e89f-47c9-abab-7bdd67e06bf8",
   "metadata": {},
   "outputs": [
    {
     "name": "stderr",
     "output_type": "stream",
     "text": [
      "/var/folders/w7/p2lcz8lj0m39n1ywl2_s0_j40000gp/T/ipykernel_40764/3456254867.py:2: RuntimeWarning: invalid value encountered in divide\n",
      "  hparea = hp.nside2pixarea(128, degrees=True) * (hp_ran/hp_ran_all)\n",
      "/var/folders/w7/p2lcz8lj0m39n1ywl2_s0_j40000gp/T/ipykernel_40764/3456254867.py:7: RuntimeWarning: invalid value encountered in divide\n",
      "  hp.cartview(hp_desi/hparea, title=\"DESI dust map\", cmap=\"viridis\", coord=['C'], min=4e3, max=7e3, hold=True,\n",
      "/var/folders/w7/p2lcz8lj0m39n1ywl2_s0_j40000gp/T/ipykernel_40764/3456254867.py:15: RuntimeWarning: invalid value encountered in divide\n",
      "  hp.cartview(hp_sfd/hparea, title=\"SFD98 dust map)\", cmap=\"viridis\", coord=['C'], min=4e3, max=7e3, hold=True,\n",
      "/var/folders/w7/p2lcz8lj0m39n1ywl2_s0_j40000gp/T/ipykernel_40764/3456254867.py:23: RuntimeWarning: invalid value encountered in divide\n",
      "  hp.cartview((hp_desi - hp_sfd)/hparea, title=\"(DESI dust) - (SFD98)\",\n"
     ]
    },
    {
     "data": {
      "text/plain": [
       "(-10.0, 2.0)"
      ]
     },
     "execution_count": 13,
     "metadata": {},
     "output_type": "execute_result"
    },
    {
     "data": {
      "image/png": "[encoded data removed]",
      "text/plain": [
       "<Figure size 1500x500 with 6 Axes>"
      ]
     },
     "metadata": {},
     "output_type": "display_data"
    }
   ],
   "source": [
    "# sq.deg of single healpixel\n",
    "hparea = hp.nside2pixarea(128, degrees=True) * (hp_ran/hp_ran_all)\n",
    "\n",
    "fig = plt.figure(figsize=(15,5))\n",
    "sub = fig.add_subplot(131)\n",
    "plt.axes(sub)\n",
    "hp.cartview(hp_desi/hparea, title=\"DESI dust map\", cmap=\"viridis\", coord=['C'], min=4e3, max=7e3, hold=True, \n",
    "           unit=r\"targets per ${\\rm deg}^2$\")\n",
    "plt.xlim(-28, -40)\n",
    "plt.ylim(-10, 2)\n",
    "\n",
    "\n",
    "sub = fig.add_subplot(132)\n",
    "plt.axes(sub)\n",
    "hp.cartview(hp_sfd/hparea, title=\"SFD98 dust map)\", cmap=\"viridis\", coord=['C'], min=4e3, max=7e3, hold=True, \n",
    "           unit=r\"targets per ${\\rm deg}^2$\")#, xlabel=\"RA\", ylabel=\"Dec\")\n",
    "plt.xlim(-28, -40)\n",
    "plt.ylim(-10, 2)\n",
    "\n",
    "\n",
    "sub = fig.add_subplot(133)\n",
    "plt.axes(sub)\n",
    "hp.cartview((hp_desi - hp_sfd)/hparea, title=\"(DESI dust) - (SFD98)\", \n",
    "            cmap=\"viridis\", coord=['C'], min=-2e2, max=2e2, hold=True, unit=r\"targets per ${\\rm deg}^2$\")\n",
    "plt.xlim(-28, -40)\n",
    "plt.ylim(-10, 2)"
   ]
  },
  {
   "cell_type": "code",
   "execution_count": 14,
   "id": "7b3d8d8d-05ff-4375-94a5-84e3cf9f8837",
   "metadata": {},
   "outputs": [
    {
     "name": "stderr",
     "output_type": "stream",
     "text": [
      "/var/folders/w7/p2lcz8lj0m39n1ywl2_s0_j40000gp/T/ipykernel_40764/1693494252.py:1: RuntimeWarning: invalid value encountered in divide\n",
      "  targ_dens_desi = (hp_desi/hparea)[(hp_desi/hparea) > 0]\n"
     ]
    },
    {
     "data": {
      "text/plain": [
       "(0.0, 10000.0)"
      ]
     },
     "execution_count": 14,
     "metadata": {},
     "output_type": "execute_result"
    },
    {
     "data": {
      "image/png": "[encoded data removed]",
      "text/plain": [
       "<Figure size 640x480 with 1 Axes>"
      ]
     },
     "metadata": {},
     "output_type": "display_data"
    }
   ],
   "source": [
    "targ_dens_desi = (hp_desi/hparea)[(hp_desi/hparea) > 0]\n",
    "plt.hist(targ_dens_desi, range=(0., 1e4), bins=50)\n",
    "plt.xlim(0, 1e4)"
   ]
  },
  {
   "cell_type": "code",
   "execution_count": null,
   "id": "a5878601-e20b-472a-907a-94921d5f6922",
   "metadata": {},
   "outputs": [],
   "source": []
  }
 ],
 "metadata": {
  "kernelspec": {
   "display_name": "pfs",
   "language": "python",
   "name": "pfs"
  },
  "language_info": {
   "codemirror_mode": {
    "name": "ipython",
    "version": 3
   },
   "file_extension": ".py",
   "mimetype": "text/x-python",
   "name": "python",
   "nbconvert_exporter": "python",
   "pygments_lexer": "ipython3",
   "version": "3.12.9"
  }
 },
 "nbformat": 4,
 "nbformat_minor": 5
}
