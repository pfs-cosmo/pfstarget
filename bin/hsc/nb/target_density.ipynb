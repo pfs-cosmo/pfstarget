{
 "cells": [
  {
   "cell_type": "markdown",
   "id": "1694e99f-2beb-47b2-afff-b7a27bc42d49",
   "metadata": {},
   "source": [
    "# examine the PFS Cosmology target density with different dust maps"
   ]
  },
  {
   "cell_type": "code",
   "execution_count": 1,
   "id": "b1836c3e-5cdd-429b-9006-8981908b6221",
   "metadata": {},
   "outputs": [],
   "source": [
    "import numpy as np\n",
    "from astropy.table import Table, vstack\n",
    "\n",
    "from pfstarget import cuts as Cuts"
   ]
  },
  {
   "cell_type": "code",
   "execution_count": 2,
   "id": "813e01c0-a720-42b4-92d5-3f7aba9e45d4",
   "metadata": {},
   "outputs": [],
   "source": [
    "import healpy as hp"
   ]
  },
  {
   "cell_type": "code",
   "execution_count": 3,
   "id": "d6df5b22-ba03-42c1-8edc-d40ccf7ab9ad",
   "metadata": {},
   "outputs": [],
   "source": [
    "# --- plotting ---\n",
    "import matplotlib as mpl\n",
    "import matplotlib.pyplot as plt\n",
    "mpl.rcParams['text.usetex'] = True\n",
    "mpl.rcParams['font.family'] = 'serif'\n",
    "mpl.rcParams['axes.linewidth'] = 1.5\n",
    "mpl.rcParams['axes.xmargin'] = 1\n",
    "mpl.rcParams['xtick.labelsize'] = 'x-large'\n",
    "mpl.rcParams['xtick.major.size'] = 5\n",
    "mpl.rcParams['xtick.major.width'] = 1.5\n",
    "mpl.rcParams['ytick.labelsize'] = 'x-large'\n",
    "mpl.rcParams['ytick.major.size'] = 5\n",
    "mpl.rcParams['ytick.major.width'] = 1.5\n",
    "mpl.rcParams['legend.frameon'] = False"
   ]
  },
  {
   "cell_type": "markdown",
   "id": "47182b3e-bad8-4d11-88a1-e80dad2485dd",
   "metadata": {},
   "source": [
    "# calculate effective healpixel area\n",
    "This takes a long time due to I/O... "
   ]
  },
  {
   "cell_type": "code",
   "execution_count": 4,
   "id": "c3651d55-798a-407b-9de3-512a60f8032b",
   "metadata": {},
   "outputs": [],
   "source": [
    "npix = hp.nside2npix(128)  # Total number of pixels\n",
    "hp_area = hp.nside2pixarea(128, degrees=True) # sq. deg in each pixel"
   ]
  },
  {
   "cell_type": "code",
   "execution_count": 5,
   "id": "2ac4035f-c44e-4948-91c4-198fa7a33133",
   "metadata": {},
   "outputs": [],
   "source": [
    "for i in range(3): \n",
    "    randoms = Table.read('/Users/hahnchanghoon/projects/pfstarget/bin/hsc/sql/database/s23-colorterm/sql/%i.ran.fits' % i)\n",
    "\n",
    "    # calculate number of randoms in each healpix\n",
    "    hpix_full = hp.ang2pix(128, np.radians(90.0 - randoms['dec']), np.radians(randoms['ra']))\n",
    "    uhpix, nhpix = np.unique(hpix_full, return_counts=True)\n",
    "    if i == 0:\n",
    "        hp_map_full = np.zeros(npix)\n",
    "    hp_map_full[uhpix] += nhpix\n",
    "\n",
    "    \n",
    "    # inputvalue count and bright star mask\n",
    "    _mask = Cuts.random_masking(randoms)    \n",
    "    \n",
    "    # calculate number of randoms **outside** of mask in each healpix\n",
    "    hpix = hp.ang2pix(128, np.radians(90.0 - randoms['dec'][~_mask]), np.radians(randoms['ra'][~_mask]))\n",
    "    uhpix, nhpix = np.unique(hpix, return_counts=True)\n",
    "    if i == 0: hp_map_masked = np.zeros(npix)\n",
    "    hp_map_masked[uhpix] += nhpix"
   ]
  },
  {
   "cell_type": "code",
   "execution_count": null,
   "id": "da11af2b-7fa5-419b-b647-0a79f5b66128",
   "metadata": {},
   "outputs": [
    {
     "name": "stderr",
     "output_type": "stream",
     "text": [
      "/var/folders/w7/p2lcz8lj0m39n1ywl2_s0_j40000gp/T/ipykernel_19454/1208511705.py:1: RuntimeWarning: invalid value encountered in divide\n",
      "  hp_map_effarea = hp_area * (hp_map_masked / hp_map_full)\n"
     ]
    }
   ],
   "source": [
    "hp_map_effarea = hp_area * (hp_map_masked / hp_map_full)"
   ]
  },
  {
   "cell_type": "code",
   "execution_count": 10,
   "id": "bcf9707b-ff82-4958-8e71-ce54bf54399f",
   "metadata": {},
   "outputs": [],
   "source": [
    "np.save('hp_map_effarea.nside128.0_2.npy', hp_map_effarea)"
   ]
  },
  {
   "cell_type": "markdown",
   "id": "a91d5445-25a9-410f-b3cc-30e5a253c242",
   "metadata": {},
   "source": [
    "# calculate target density"
   ]
  },
  {
   "cell_type": "code",
   "execution_count": 16,
   "id": "a8f9dcf5-abef-4214-a64d-b64da4b52e06",
   "metadata": {},
   "outputs": [],
   "source": [
    "for i in range(3): \n",
    "    tract = Table.read('/Users/hahnchanghoon/projects/pfstarget/bin/hsc/sql/database/s23-colorterm/sql/%i.fits' % i)\n",
    "    # prepare tract \n",
    "    hsc = Cuts._prepare_hsc(tract,  dust_extinction='sfd98')\n",
    "    \n",
    "    # apply PFS Cosmology target selection \n",
    "    is_pfscosmo = Cuts.isCosmology(hsc)\n",
    "    targets = hsc[is_pfscosmo] \n",
    "\n",
    "    hpix = hp.ang2pix(128, np.radians(90.0 - targets['DEC']), np.radians(targets['RA']))\n",
    "    uhpix, nhpix = np.unique(hpix, return_counts=True)\n",
    "\n",
    "    if i == 0: hp_targets_sfd98 = np.zeros(npix)\n",
    "    hp_targets_sfd98[uhpix] += nhpix"
   ]
  },
  {
   "cell_type": "code",
   "execution_count": 17,
   "id": "d478dfb3-2018-4c5d-ba0e-5d424e5f9f70",
   "metadata": {},
   "outputs": [
    {
     "name": "stderr",
     "output_type": "stream",
     "text": [
      "/var/folders/w7/p2lcz8lj0m39n1ywl2_s0_j40000gp/T/ipykernel_19454/1598247711.py:1: RuntimeWarning: invalid value encountered in divide\n",
      "  hp.cartview(hp_targets_sfd98 / hp_map_effarea, title=\"PFS Targets (SFD98 dust map)\", cmap=\"viridis\", coord=['C'], min=3e3, max=9e3)\n"
     ]
    },
    {
     "data": {
      "text/plain": [
       "(-10.0, 2.0)"
      ]
     },
     "execution_count": 17,
     "metadata": {},
     "output_type": "execute_result"
    },
    {
     "data": {
      "image/png": "[encoded data removed]",
      "text/plain": [
       "<Figure size 850x540 with 2 Axes>"
      ]
     },
     "metadata": {},
     "output_type": "display_data"
    }
   ],
   "source": [
    "hp.cartview(hp_targets_sfd98 / hp_map_effarea, title=\"PFS Targets (SFD98 dust map)\", cmap=\"viridis\", coord=['C'], min=3e3, max=9e3)\n",
    "plt.xlim(-28, -40)\n",
    "plt.ylim(-10, 2)"
   ]
  },
  {
   "cell_type": "code",
   "execution_count": 18,
   "id": "c592d000-96da-4cbb-9784-4575b9e64dac",
   "metadata": {},
   "outputs": [
    {
     "name": "stderr",
     "output_type": "stream",
     "text": [
      "/Users/hahnchanghoon/projects/pfstarget/src/pfstarget/cuts.py:88: RuntimeWarning: invalid value encountered in subtract\n",
      "  cuts &= ((objects['G_MAG'] - objects['R_MAG'] > -1) &\n",
      "/Users/hahnchanghoon/projects/pfstarget/src/pfstarget/cuts.py:53: RuntimeWarning: invalid value encountered in subtract\n",
      "  cuts &= (((objects['G_MAG'] - objects['R_MAG']) < g_r_cut) | # g-r cut (for 1.6 < z < 2.4 ELGs)\n",
      "/Users/hahnchanghoon/projects/pfstarget/src/pfstarget/cuts.py:55: RuntimeWarning: invalid value encountered in subtract\n",
      "  > color_slope * (objects['G_MAG'] - objects['R_MAG'])- color_yint))\n"
     ]
    }
   ],
   "source": [
    "for i in range(3): \n",
    "    tract = Table.read('/Users/hahnchanghoon/projects/pfstarget/bin/hsc/sql/database/s23-colorterm/sql/%i.fits' % i)\n",
    "    # prepare tract \n",
    "    hsc = Cuts._prepare_hsc(tract,  dust_extinction='desi', zeropoint=False)\n",
    "    \n",
    "    # apply PFS Cosmology target selection \n",
    "    is_pfscosmo = Cuts.isCosmology(hsc)\n",
    "    targets = hsc[is_pfscosmo] \n",
    "\n",
    "    hpix = hp.ang2pix(128, np.radians(90.0 - targets['DEC']), np.radians(targets['RA']))\n",
    "    uhpix, nhpix = np.unique(hpix, return_counts=True)\n",
    "\n",
    "    if i == 0: hp_targets_desi = np.zeros(npix)\n",
    "    hp_targets_desi[uhpix] += nhpix"
   ]
  },
  {
   "cell_type": "code",
   "execution_count": 25,
   "id": "9f5ac06a-9de8-454c-9edc-001a5d41b338",
   "metadata": {},
   "outputs": [
    {
     "name": "stderr",
     "output_type": "stream",
     "text": [
      "/var/folders/w7/p2lcz8lj0m39n1ywl2_s0_j40000gp/T/ipykernel_19454/1901199365.py:1: RuntimeWarning: invalid value encountered in divide\n",
      "  hp.cartview(hp_targets_desi / hp_map_effarea, title=\"PFS Targets (DESI dust map)\",\n"
     ]
    },
    {
     "data": {
      "text/plain": [
       "(-10.0, 2.0)"
      ]
     },
     "execution_count": 25,
     "metadata": {},
     "output_type": "execute_result"
    },
    {
     "data": {
      "image/png": "[encoded data removed]",
      "text/plain": [
       "<Figure size 850x540 with 2 Axes>"
      ]
     },
     "metadata": {},
     "output_type": "display_data"
    }
   ],
   "source": [
    "hp.cartview(hp_targets_desi / hp_map_effarea, title=\"PFS Targets (DESI dust map)\", \n",
    "            cmap=\"viridis\", coord=['C'], min=3e3, max=9e3, unit=\"obj per sq.deg\")\n",
    "plt.xlim(-28, -40)\n",
    "plt.ylim(-10, 2)"
   ]
  },
  {
   "cell_type": "code",
   "execution_count": 27,
   "id": "f172b459-3b80-438e-bf03-de4b1dc4f4a8",
   "metadata": {},
   "outputs": [
    {
     "name": "stderr",
     "output_type": "stream",
     "text": [
      "/var/folders/w7/p2lcz8lj0m39n1ywl2_s0_j40000gp/T/ipykernel_19454/1783266230.py:1: RuntimeWarning: invalid value encountered in divide\n",
      "  hp.cartview((hp_targets_sfd98 - hp_targets_desi) / hp_map_effarea, title=\"(PFS Targets SFD98) - (PFS Target DESI dust)\",\n"
     ]
    },
    {
     "data": {
      "text/plain": [
       "(-10.0, 2.0)"
      ]
     },
     "execution_count": 27,
     "metadata": {},
     "output_type": "execute_result"
    },
    {
     "data": {
      "image/png": "[encoded data removed]",
      "text/plain": [
       "<Figure size 850x540 with 2 Axes>"
      ]
     },
     "metadata": {},
     "output_type": "display_data"
    }
   ],
   "source": [
    "hp.cartview((hp_targets_sfd98 - hp_targets_desi) / hp_map_effarea, title=\"(PFS Targets SFD98) - (PFS Target DESI dust)\", \n",
    "            cmap=\"viridis\", coord=['C'], min=-2e3, max=2e3, unit=\"obj per sq.deg\")\n",
    "plt.xlim(-28, -40)\n",
    "plt.ylim(-10, 2)"
   ]
  },
  {
   "cell_type": "code",
   "execution_count": 29,
   "id": "0fe1e4e0-1309-4152-9552-1143afcc0c0b",
   "metadata": {},
   "outputs": [
    {
     "name": "stderr",
     "output_type": "stream",
     "text": [
      "/var/folders/w7/p2lcz8lj0m39n1ywl2_s0_j40000gp/T/ipykernel_19454/928532270.py:1: RuntimeWarning: invalid value encountered in divide\n",
      "  hp.cartview(100*((hp_targets_sfd98 / hp_targets_desi) - 1), title=\"(PFS Targets SFD98)/(PFS Target DESI dust)-1\",\n"
     ]
    },
    {
     "data": {
      "text/plain": [
       "(-10.0, 2.0)"
      ]
     },
     "execution_count": 29,
     "metadata": {},
     "output_type": "execute_result"
    },
    {
     "data": {
      "image/png": "[encoded data removed]",
      "text/plain": [
       "<Figure size 850x540 with 2 Axes>"
      ]
     },
     "metadata": {},
     "output_type": "display_data"
    }
   ],
   "source": [
    "hp.cartview(100*((hp_targets_sfd98 / hp_targets_desi) - 1), title=\"(PFS Targets SFD98)/(PFS Target DESI dust)-1\", \n",
    "            cmap=\"viridis\", coord=['C'], min=-20, max=20, unit=\"percent\")\n",
    "plt.xlim(-28, -40)\n",
    "plt.ylim(-10, 2)"
   ]
  },
  {
   "cell_type": "code",
   "execution_count": null,
   "id": "12d7459f-11c5-4f65-9616-0b88350fa321",
   "metadata": {},
   "outputs": [],
   "source": []
  }
 ],
 "metadata": {
  "kernelspec": {
   "display_name": "pfs",
   "language": "python",
   "name": "pfs"
  },
  "language_info": {
   "codemirror_mode": {
    "name": "ipython",
    "version": 3
   },
   "file_extension": ".py",
   "mimetype": "text/x-python",
   "name": "python",
   "nbconvert_exporter": "python",
   "pygments_lexer": "ipython3",
   "version": "3.12.9"
  }
 },
 "nbformat": 4,
 "nbformat_minor": 5
}
